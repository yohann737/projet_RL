{
 "cells": [
  {
   "cell_type": "code",
   "execution_count": 13,
   "metadata": {},
   "outputs": [],
   "source": [
    "import numpy as np\n",
    "import torch\n",
    "import torch.nn as nn\n",
    "import torch.nn.functional as F\n",
    "import torch.optim as optim"
   ]
  },
  {
   "cell_type": "code",
   "execution_count": 14,
   "metadata": {},
   "outputs": [],
   "source": [
    "width, height = 3, 3\n",
    "state_size = width * height\n",
    "nh1, nh2 = 64, 64"
   ]
  },
  {
   "cell_type": "code",
   "execution_count": 15,
   "metadata": {},
   "outputs": [
    {
     "name": "stdout",
     "output_type": "stream",
     "text": [
      "ValueNetwork(\n",
      "  (fc1): Linear(in_features=9, out_features=64, bias=True)\n",
      "  (fc2): Linear(in_features=64, out_features=64, bias=True)\n",
      "  (fc3): Linear(in_features=64, out_features=1, bias=True)\n",
      ")\n"
     ]
    }
   ],
   "source": [
    "class ValueNetwork(nn.Module):\n",
    "    \n",
    "    def __init__(self):\n",
    "        super(ValueNetwork, self).__init__()\n",
    "        self.fc1 = nn.Linear(state_size, nh1)\n",
    "        self.fc2 = nn.Linear(nh1, nh2)\n",
    "        self.fc3 = nn.Linear(nh2, 1)\n",
    "    \n",
    "    def forward(self, x):\n",
    "        y = F.relu(self.fc1(x))\n",
    "        y = F.relu(self.fc2(y))\n",
    "        y = F.tanh(self.fc3(y))\n",
    "        return y\n",
    "\n",
    "value_network = ValueNetwork()\n",
    "print(value_network)"
   ]
  },
  {
   "cell_type": "code",
   "execution_count": 16,
   "metadata": {},
   "outputs": [],
   "source": [
    "optimizer = optim.Adam(value_network.parameters(), lr = 0.01)\n",
    "criterion = nn.MSELoss()"
   ]
  },
  {
   "cell_type": "code",
   "execution_count": 17,
   "metadata": {},
   "outputs": [],
   "source": [
    "np1, np2 = 64, 64"
   ]
  },
  {
   "cell_type": "code",
   "execution_count": 18,
   "metadata": {},
   "outputs": [
    {
     "name": "stdout",
     "output_type": "stream",
     "text": [
      "PolicyNetwork(\n",
      "  (fc1): Linear(in_features=9, out_features=64, bias=True)\n",
      "  (fc2): Linear(in_features=64, out_features=64, bias=True)\n",
      "  (fc3): Linear(in_features=64, out_features=9, bias=True)\n",
      ")\n"
     ]
    }
   ],
   "source": [
    "class PolicyNetwork(nn.Module):\n",
    "    \n",
    "    def __init__(self):\n",
    "        super(PolicyNetwork, self).__init__()\n",
    "        self.fc1 = nn.Linear(state_size, np1)\n",
    "        self.fc2 = nn.Linear(np1, np2)\n",
    "        self.fc3 = nn.Linear(np2, state_size)\n",
    "    \n",
    "    def forward(self, x):\n",
    "        y = F.relu(self.fc1(x))\n",
    "        y = F.relu(self.fc2(y))\n",
    "        y = F.softmax(self.fc3(y))\n",
    "        return y\n",
    "    \n",
    "policy_network = PolicyNetwork()\n",
    "print(policy_network)"
   ]
  },
  {
   "cell_type": "code",
   "execution_count": 19,
   "metadata": {},
   "outputs": [],
   "source": [
    "optimizer = optim.Adam(policy_network.parameters(), lr = 0.01)\n",
    "criterion = nn.CrossEntropyLoss()\n"
   ]
  },
  {
   "cell_type": "code",
   "execution_count": 20,
   "metadata": {},
   "outputs": [],
   "source": [
    "class TicTacToeState:\n",
    "    def __init__(self, board=None, player=1):\n",
    "        if board is None:\n",
    "            board = [0] * 9\n",
    "        self.board = board\n",
    "        self.player = player\n",
    "\n",
    "    def get_possible_moves(self):\n",
    "        return [i for i, v in enumerate(self.board) if v == 0]\n",
    "\n",
    "    def play_move(self, move):\n",
    "        self.board[move] = self.player\n",
    "        self.player = -self.player\n",
    "\n",
    "    def play_random_move(self):\n",
    "        possible_moves = self.get_possible_moves()\n",
    "        move = random.choice(possible_moves)\n",
    "        self.play_move(move)\n",
    "\n",
    "    def is_game_over(self):\n",
    "        return self.get_result() is not None\n",
    "\n",
    "    def get_result(self):\n",
    "        for i in range(3):\n",
    "            row = i * 3\n",
    "            if self.board[row] != 0 and self.board[row] == self.board[row + 1] == self.board[row + 2]:\n",
    "                return self.board[row]\n",
    "            if self.board[i] != 0 and self.board[i] == self.board[i + 3] == self.board[i + 6]:\n",
    "                return self.board[i]\n",
    "\n",
    "        if self.board[0] != 0 and self.board[0] == self.board[4] == self.board[8]:\n",
    "            return self.board[0]\n",
    "        if self.board[2] != 0 and self.board[2] == self.board[4] == self.board[6]:\n",
    "            return self.board[2]\n",
    "\n",
    "        if 0 not in self.board:\n",
    "            return 0\n",
    "\n",
    "        return None\n",
    "\n",
    "    def copy(self):\n",
    "        return TicTacToeState(self.board[:], self.player)"
   ]
  },
  {
   "cell_type": "code",
   "execution_count": 21,
   "metadata": {},
   "outputs": [],
   "source": [
    "import random\n",
    "\n",
    "class Node:\n",
    "    def __init__(self, state, parent=None):\n",
    "        self.state = state\n",
    "        self.parent = parent\n",
    "        self.children = []\n",
    "        self.visits = 0\n",
    "        self.wins = 0\n",
    "\n",
    "    def add_child(self, child_state):\n",
    "        child = Node(child_state, self)\n",
    "        self.children.append(child)\n",
    "        return child\n",
    "\n",
    "    def update(self, result):\n",
    "        self.visits += 1\n",
    "        self.wins += result\n",
    "\n",
    "def select_child(node):\n",
    "    total_visits = sum(child.visits for child in node.children)\n",
    "    log_visits = np.log(1 + total_visits)\n",
    "\n",
    "    def uct(node):\n",
    "        return node.wins / (1 + node.visits) + np.sqrt(log_visits / (node.visits + 1))\n",
    "\n",
    "    return max(node.children, key=uct)\n",
    "\n",
    "def expand(node):\n",
    "    state = node.state.copy()\n",
    "    move = random.choice(state.get_possible_moves())\n",
    "    #print(\"move\", move)\n",
    "    child_state = state.copy()\n",
    "    child_state.play_move(move)\n",
    "    child_node = node.add_child(child_state)\n",
    "    return child_node\n",
    "    \n",
    "def simulate(node):\n",
    "    state = node.state.copy()\n",
    "    while not state.is_game_over():\n",
    "        state.play_random_move()\n",
    "    return state.get_result()\n",
    "\n",
    "def backpropagate(node, result):\n",
    "    while node is not None:\n",
    "        node.update(result)\n",
    "        node = node.parent\n",
    "\n",
    "def mcts(root, iterations):\n",
    "    for i in range(iterations):\n",
    "        node = root\n",
    "        while len(node.children) != 0 and not node.state.is_game_over():\n",
    "            node = select_child(node)\n",
    "        if not node.state.is_game_over():\n",
    "            child_node = expand(node)\n",
    "        else:\n",
    "            child_node = node\n",
    "        result = simulate(child_node)\n",
    "        backpropagate(child_node, result)\n",
    "\n"
   ]
  },
  {
   "cell_type": "code",
   "execution_count": 22,
   "metadata": {},
   "outputs": [],
   "source": [
    "state = TicTacToeState()\n",
    "root = Node(state)\n",
    "mcts(root, iterations=10)"
   ]
  },
  {
   "cell_type": "code",
   "execution_count": 24,
   "metadata": {},
   "outputs": [
    {
     "name": "stdout",
     "output_type": "stream",
     "text": [
      "   |   |  \n",
      "---+---+---\n",
      "   |   |  \n",
      "---+---+---\n",
      "   |   |  \n",
      "\n",
      " X |   |  \n",
      "---+---+---\n",
      "   |   |  \n",
      "---+---+---\n",
      "   |   |  \n",
      "\n",
      " X |   | O\n",
      "---+---+---\n",
      "   |   |  \n",
      "---+---+---\n",
      "   |   |  \n",
      "\n"
     ]
    },
    {
     "ename": "ValueError",
     "evalue": "invalid literal for int() with base 10: ''",
     "output_type": "error",
     "traceback": [
      "\u001b[1;31m---------------------------------------------------------------------------\u001b[0m",
      "\u001b[1;31mValueError\u001b[0m                                Traceback (most recent call last)",
      "\u001b[1;32m~\\AppData\\Local\\Temp\\ipykernel_11484\\1175654817.py\u001b[0m in \u001b[0;36m<module>\u001b[1;34m\u001b[0m\n\u001b[0;32m     32\u001b[0m \u001b[0mstate\u001b[0m \u001b[1;33m=\u001b[0m \u001b[0mTicTacToeState\u001b[0m\u001b[1;33m(\u001b[0m\u001b[1;33m)\u001b[0m\u001b[1;33m\u001b[0m\u001b[1;33m\u001b[0m\u001b[0m\n\u001b[0;32m     33\u001b[0m \u001b[0mroot\u001b[0m \u001b[1;33m=\u001b[0m \u001b[0mNode\u001b[0m\u001b[1;33m(\u001b[0m\u001b[0mstate\u001b[0m\u001b[1;33m)\u001b[0m\u001b[1;33m\u001b[0m\u001b[1;33m\u001b[0m\u001b[0m\n\u001b[1;32m---> 34\u001b[1;33m \u001b[0mplay_game\u001b[0m\u001b[1;33m(\u001b[0m\u001b[0mroot\u001b[0m\u001b[1;33m)\u001b[0m\u001b[1;33m\u001b[0m\u001b[1;33m\u001b[0m\u001b[0m\n\u001b[0m",
      "\u001b[1;32m~\\AppData\\Local\\Temp\\ipykernel_11484\\1175654817.py\u001b[0m in \u001b[0;36mplay_game\u001b[1;34m(root)\u001b[0m\n\u001b[0;32m     12\u001b[0m         \u001b[0mprint\u001b[0m\u001b[1;33m(\u001b[0m\u001b[1;33m)\u001b[0m\u001b[1;33m\u001b[0m\u001b[1;33m\u001b[0m\u001b[0m\n\u001b[0;32m     13\u001b[0m         \u001b[1;32mif\u001b[0m \u001b[0mstate\u001b[0m\u001b[1;33m.\u001b[0m\u001b[0mplayer\u001b[0m \u001b[1;33m==\u001b[0m \u001b[1;36m1\u001b[0m\u001b[1;33m:\u001b[0m\u001b[1;33m\u001b[0m\u001b[1;33m\u001b[0m\u001b[0m\n\u001b[1;32m---> 14\u001b[1;33m             \u001b[0mmove\u001b[0m \u001b[1;33m=\u001b[0m \u001b[0mget_human_move\u001b[0m\u001b[1;33m(\u001b[0m\u001b[0mstate\u001b[0m\u001b[1;33m)\u001b[0m\u001b[1;33m\u001b[0m\u001b[1;33m\u001b[0m\u001b[0m\n\u001b[0m\u001b[0;32m     15\u001b[0m         \u001b[1;32melse\u001b[0m\u001b[1;33m:\u001b[0m\u001b[1;33m\u001b[0m\u001b[1;33m\u001b[0m\u001b[0m\n\u001b[0;32m     16\u001b[0m             \u001b[0mmcts\u001b[0m\u001b[1;33m(\u001b[0m\u001b[0mroot\u001b[0m\u001b[1;33m,\u001b[0m \u001b[0miterations\u001b[0m \u001b[1;33m=\u001b[0m \u001b[1;36m1000\u001b[0m\u001b[1;33m)\u001b[0m\u001b[1;33m\u001b[0m\u001b[1;33m\u001b[0m\u001b[0m\n",
      "\u001b[1;32m~\\AppData\\Local\\Temp\\ipykernel_11484\\1175654817.py\u001b[0m in \u001b[0;36mget_human_move\u001b[1;34m(board)\u001b[0m\n\u001b[0;32m      1\u001b[0m \u001b[1;32mdef\u001b[0m \u001b[0mget_human_move\u001b[0m\u001b[1;33m(\u001b[0m\u001b[0mboard\u001b[0m\u001b[1;33m)\u001b[0m\u001b[1;33m:\u001b[0m\u001b[1;33m\u001b[0m\u001b[1;33m\u001b[0m\u001b[0m\n\u001b[0;32m      2\u001b[0m     \u001b[1;32mwhile\u001b[0m \u001b[1;32mTrue\u001b[0m\u001b[1;33m:\u001b[0m\u001b[1;33m\u001b[0m\u001b[1;33m\u001b[0m\u001b[0m\n\u001b[1;32m----> 3\u001b[1;33m         \u001b[0mmove\u001b[0m \u001b[1;33m=\u001b[0m \u001b[0mint\u001b[0m\u001b[1;33m(\u001b[0m\u001b[0minput\u001b[0m\u001b[1;33m(\u001b[0m\u001b[1;34m'Enter your move (0-8): '\u001b[0m\u001b[1;33m)\u001b[0m\u001b[1;33m)\u001b[0m\u001b[1;33m\u001b[0m\u001b[1;33m\u001b[0m\u001b[0m\n\u001b[0m\u001b[0;32m      4\u001b[0m         \u001b[1;32mif\u001b[0m \u001b[0mmove\u001b[0m \u001b[1;32min\u001b[0m \u001b[0mboard\u001b[0m\u001b[1;33m.\u001b[0m\u001b[0mget_possible_moves\u001b[0m\u001b[1;33m(\u001b[0m\u001b[1;33m)\u001b[0m\u001b[1;33m:\u001b[0m\u001b[1;33m\u001b[0m\u001b[1;33m\u001b[0m\u001b[0m\n\u001b[0;32m      5\u001b[0m             \u001b[1;32mreturn\u001b[0m \u001b[0mmove\u001b[0m\u001b[1;33m\u001b[0m\u001b[1;33m\u001b[0m\u001b[0m\n",
      "\u001b[1;31mValueError\u001b[0m: invalid literal for int() with base 10: ''"
     ]
    }
   ],
   "source": [
    "\n",
    "\n",
    "def get_human_move(board):\n",
    "    while True:\n",
    "        move = int(input('Enter your move (0-8): '))\n",
    "        if move in board.get_possible_moves():\n",
    "            return move\n",
    "        print('Invalid move')\n",
    "\n",
    "def play_game(root):\n",
    "    state = root.state\n",
    "    while not state.is_game_over():\n",
    "        print(display_board(state.board))\n",
    "        print()\n",
    "        if state.player == 1:\n",
    "            move = get_human_move(state)\n",
    "        else:\n",
    "            mcts(root, iterations = 1000)\n",
    "            node = select_child(root)\n",
    "            state_difference = [np.abs(root.state.board[i] - node.state.board[i]) for i in range(len(root.state.board))]\n",
    "            move = np.argmax(state_difference)\n",
    "            root = node\n",
    "        state.play_move(move)\n",
    "\n",
    "    print(display_board(state.board))\n",
    "    result = state.get_result()\n",
    "    if result == 1:\n",
    "        print('You win!')\n",
    "    elif result == -1:\n",
    "        print('You lose!')\n",
    "    else:\n",
    "        print('Draw!')\n",
    "\n",
    "state = TicTacToeState()\n",
    "root = Node(state)\n",
    "play_game(root)\n"
   ]
  },
  {
   "cell_type": "code",
   "execution_count": null,
   "metadata": {},
   "outputs": [],
   "source": []
  }
 ],
 "metadata": {
  "kernelspec": {
   "display_name": "Python 3",
   "language": "python",
   "name": "python3"
  },
  "language_info": {
   "codemirror_mode": {
    "name": "ipython",
    "version": 3
   },
   "file_extension": ".py",
   "mimetype": "text/x-python",
   "name": "python",
   "nbconvert_exporter": "python",
   "pygments_lexer": "ipython3",
   "version": "3.7.9"
  },
  "orig_nbformat": 4,
  "vscode": {
   "interpreter": {
    "hash": "ef76e2b8e71eab5269a9ae43b66edcb35e3d96959fd6f5efa8465ffbea2043b2"
   }
  }
 },
 "nbformat": 4,
 "nbformat_minor": 2
}
